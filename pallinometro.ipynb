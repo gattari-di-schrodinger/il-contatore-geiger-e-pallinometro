{
 "cells": [
  {
   "cell_type": "code",
   "execution_count": 1,
   "metadata": {},
   "outputs": [],
   "source": [
    "import numpy as np\n",
    "import math\n",
    "import sys\n",
    "import random\n",
    "import matplotlib.pyplot as plt\n",
    "from scipy.stats import norm\n",
    "from scipy.stats import binom"
   ]
  },
  {
   "cell_type": "code",
   "execution_count": 2,
   "metadata": {},
   "outputs": [],
   "source": [
    "# simulatore pallinometro\n",
    "import numpy as np\n",
    "import math\n",
    "import sys\n",
    "import random\n",
    "\n",
    "def pallinometro(npall = 1000, nfile = 15, prob = 0.5, partedazero=True):\n",
    "    # inizializzo l'arrai delle posizioni finali\n",
    "    posfin = np.repeat(-999., npall)\n",
    "\n",
    "    # loop sulle pallini\n",
    "    for ipall in range(0, npall):\n",
    "        pos = 0\n",
    "        # loop sulle file di chiodi\n",
    "        for ifile in range(0, nfile):\n",
    "            # estraggo random tra 0 e 1\n",
    "            x = random.random()\n",
    "            # se x e' minore di prob. vado di mezzo passo a sx\n",
    "            if x < prob:\n",
    "                pos = pos - 1/2\n",
    "            # altrimenti vado di mezzo passo a dx\n",
    "            else:\n",
    "                pos = pos + 1/2\n",
    "        if partedazero == False:\n",
    "            # se non conto le caselle da zero,\n",
    "            # riporto la posizione finale in passi unitari\n",
    "            posfin[ipall] = pos*2\n",
    "        elif partedazero == True:\n",
    "            # se conto le caselle da zero,\n",
    "            # aggiunco nfile/2\n",
    "            posfin[ipall] = pos + nfile/2 \n",
    "            \n",
    "    return posfin"
   ]
  },
  {
   "cell_type": "code",
   "execution_count": 3,
   "metadata": {},
   "outputs": [],
   "source": [
    "nfile = 50\n",
    "x = pallinometro(nfile=nfile, npall=100, partedazero=True)"
   ]
  },
  {
   "cell_type": "code",
   "execution_count": 4,
   "metadata": {},
   "outputs": [
    {
     "data": {
      "image/png": "[encoded data removed]",
      "text/plain": [
       "<Figure size 432x288 with 1 Axes>"
      ]
     },
     "metadata": {
      "needs_background": "light"
     },
     "output_type": "display_data"
    }
   ],
   "source": [
    "mean,std=norm.fit(x)\n",
    "plt.hist(x,bins=6, density=True)\n",
    "xmin,xmax=plt.xlim()\n",
    "x=np.linspace(xmin,xmax,1000)\n",
    "y= norm.pdf(x,mean,std)\n",
    "plt.plot(x,y)\n",
    "plt.xlabel('caselle')\n",
    "plt.ylabel('probabilità')\n",
    "plt.show()"
   ]
  }
 ],
 "metadata": {
  "kernelspec": {
   "display_name": "Python 3",
   "language": "python",
   "name": "python3"
  },
  "language_info": {
   "codemirror_mode": {
    "name": "ipython",
    "version": 3
   },
   "file_extension": ".py",
   "mimetype": "text/x-python",
   "name": "python",
   "nbconvert_exporter": "python",
   "pygments_lexer": "ipython3",
   "version": "3.7.6"
  }
 },
 "nbformat": 4,
 "nbformat_minor": 4
}
